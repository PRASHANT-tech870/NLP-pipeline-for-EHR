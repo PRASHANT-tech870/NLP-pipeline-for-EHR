{
 "cells": [
  {
   "cell_type": "code",
   "execution_count": 7,
   "id": "681b6f18-58c0-48d4-a44c-faeaf9244dd6",
   "metadata": {},
   "outputs": [
    {
     "name": "stderr",
     "output_type": "stream",
     "text": [
      "/home/rvce/durgarao/apps/miniconda3/lib/python3.12/site-packages/torch/storage.py:414: FutureWarning: You are using `torch.load` with `weights_only=False` (the current default value), which uses the default pickle module implicitly. It is possible to construct malicious pickle data which will execute arbitrary code during unpickling (See https://github.com/pytorch/pytorch/blob/main/SECURITY.md#untrusted-models for more details). In a future release, the default value for `weights_only` will be flipped to `True`. This limits the functions that could be executed during unpickling. Arbitrary objects will no longer be allowed to be loaded via this mode unless they are explicitly allowlisted by the user via `torch.serialization.add_safe_globals`. We recommend you start setting `weights_only=True` for any use case where you don't have full control of the loaded file. Please open an issue on GitHub for any issues related to this experimental feature.\n",
      "  return torch.load(io.BytesIO(b))\n"
     ]
    }
   ],
   "source": [
    "import pickle\n",
    "\n",
    "# Load variables from .pkl files\n",
    "with open(r\"/home/rvce/Downloads/HPCC/12k Data/all_symptoms_ALL.pkl\", 'rb') as f:\n",
    "    all_symptoms_ALL = pickle.load(f)\n",
    "\n",
    "with open(r\"/home/rvce/Downloads/HPCC/12k Data/symptom_with_organ_ALL.pkl\", 'rb') as f:\n",
    "    symptom_with_organ_ALL = pickle.load(f)\n",
    "\n",
    "with open(r\"/home/rvce/Downloads/HPCC/12k Data/symptom_with_duration_ALL.pkl\", 'rb') as f:\n",
    "    symptom_with_duration_ALL = pickle.load(f)\n",
    "\n",
    "with open(r\"/home/rvce/Downloads/HPCC/12k Data/pred_1_shuffled.pkl\", 'rb') as f:\n",
    "    pred_1_shuffled = pickle.load(f)\n",
    "\n",
    "with open(r\"/home/rvce/Downloads/HPCC/12k Data/feature_matrices.pkl\", 'rb') as f:\n",
    "    feature_matrices = pickle.load(f)\n",
    "\n",
    "with open(r\"/home/rvce/Downloads/HPCC/12k Data/edge_list_all.pkl\", 'rb') as f:\n",
    "    edge_list_all = pickle.load(f)\n"
   ]
  },
  {
   "cell_type": "code",
   "execution_count": 8,
   "id": "d172ca78-c27c-43ac-ba96-43c0364b531b",
   "metadata": {},
   "outputs": [
    {
     "name": "stdout",
     "output_type": "stream",
     "text": [
      "12000\n",
      "12000\n",
      "12000\n",
      "12000\n",
      "12000\n",
      "12000\n"
     ]
    }
   ],
   "source": [
    "print(len(all_symptoms_ALL))\n",
    "print(len(symptom_with_organ_ALL))\n",
    "print(len(pred_1_shuffled))\n",
    "print(len(symptom_with_duration_ALL))\n",
    "print(len(feature_matrices))\n",
    "print(len(edge_list_all))\n"
   ]
  },
  {
   "cell_type": "code",
   "execution_count": 12,
   "id": "95d8b187-8b0d-4828-b6cb-2da3e7323677",
   "metadata": {},
   "outputs": [
    {
     "data": {
      "text/plain": [
       "14.65025"
      ]
     },
     "execution_count": 12,
     "metadata": {},
     "output_type": "execute_result"
    }
   ],
   "source": [
    "c=0\n",
    "for i in range(len(feature_matrices)):\n",
    "    c+=len(feature_matrices[i])\n",
    "\n",
    "c/12000"
   ]
  },
  {
   "cell_type": "code",
   "execution_count": 13,
   "id": "a6bd6f29-c50a-42cc-8f74-46116cb2a544",
   "metadata": {
    "scrolled": true
   },
   "outputs": [
    {
     "name": "stdout",
     "output_type": "stream",
     "text": [
      "Epoch 1, Average Loss: 0.5868396264809417\n",
      "Epoch 2, Average Loss: 0.5453462819168781\n",
      "Epoch 3, Average Loss: 0.5351913695823799\n",
      "Epoch 4, Average Loss: 0.5290083462915863\n",
      "Epoch 5, Average Loss: 0.524867566269438\n",
      "Epoch 6, Average Loss: 0.5171086838761306\n",
      "Epoch 7, Average Loss: 0.5100157206965426\n",
      "Epoch 8, Average Loss: 0.5026475585501854\n",
      "Epoch 9, Average Loss: 0.5017772803819631\n",
      "Epoch 10, Average Loss: 0.4986044243983924\n",
      "Epoch 11, Average Loss: 0.4947710732349757\n",
      "Epoch 12, Average Loss: 0.49541939175699373\n",
      "Epoch 13, Average Loss: 0.49474866045457505\n",
      "Epoch 14, Average Loss: 0.4898237315934554\n",
      "Epoch 15, Average Loss: 0.4902241719450734\n",
      "Epoch 16, Average Loss: 0.4859061021190003\n",
      "Epoch 17, Average Loss: 0.48441403933163385\n",
      "Epoch 18, Average Loss: 0.480758275340823\n",
      "Epoch 19, Average Loss: 0.48269684094916376\n",
      "Epoch 20, Average Loss: 0.47813292360744286\n",
      "Epoch 21, Average Loss: 0.48050299606461583\n",
      "Epoch 22, Average Loss: 0.4805575003309835\n",
      "Epoch 23, Average Loss: 0.47700002721027823\n",
      "Epoch 24, Average Loss: 0.47846910369297985\n",
      "Epoch 25, Average Loss: 0.4783615093703132\n",
      "Epoch 26, Average Loss: 0.47626795889273854\n",
      "Epoch 27, Average Loss: 0.47712749082626515\n",
      "Epoch 28, Average Loss: 0.47770228570624873\n",
      "Epoch 29, Average Loss: 0.47301370709088103\n",
      "Epoch 30, Average Loss: 0.475229402437027\n",
      "Epoch 31, Average Loss: 0.47145313370775327\n",
      "Epoch 32, Average Loss: 0.47090748506324115\n",
      "Epoch 33, Average Loss: 0.4741651270491313\n",
      "Epoch 34, Average Loss: 0.4696093936092742\n",
      "Epoch 35, Average Loss: 0.47009885138751056\n",
      "Epoch 36, Average Loss: 0.47149005767604346\n",
      "Epoch 37, Average Loss: 0.46412562987438805\n",
      "Epoch 38, Average Loss: 0.46659078597263187\n",
      "Epoch 39, Average Loss: 0.47177733893857293\n",
      "Epoch 40, Average Loss: 0.4706282696347601\n",
      "Epoch 41, Average Loss: 0.46671723598703346\n",
      "Epoch 42, Average Loss: 0.4672370157823181\n",
      "Epoch 43, Average Loss: 0.46495821025882683\n",
      "Epoch 44, Average Loss: 0.4660747889368207\n",
      "Epoch 45, Average Loss: 0.4619308853795963\n",
      "Epoch 46, Average Loss: 0.4617733481296707\n",
      "Epoch 47, Average Loss: 0.46168843792861375\n",
      "Epoch 48, Average Loss: 0.46054770085407076\n",
      "Epoch 49, Average Loss: 0.4595336638934838\n",
      "Epoch 50, Average Loss: 0.46267773720644434\n",
      "Epoch 51, Average Loss: 0.4595162258487994\n",
      "Epoch 52, Average Loss: 0.4649340388937125\n",
      "Epoch 53, Average Loss: 0.4668340447577773\n",
      "Epoch 54, Average Loss: 0.45980583155605836\n",
      "Epoch 55, Average Loss: 0.46240640539167965\n",
      "Epoch 56, Average Loss: 0.45979160821466636\n",
      "Epoch 57, Average Loss: 0.46070119585578534\n",
      "Epoch 58, Average Loss: 0.48008874518201733\n",
      "Epoch 59, Average Loss: 0.47014418796846635\n",
      "Epoch 60, Average Loss: 0.4714268828737695\n",
      "Epoch 61, Average Loss: 0.47144979302112106\n",
      "Epoch 62, Average Loss: 0.46478461261609033\n",
      "Epoch 63, Average Loss: 0.46049384871282617\n",
      "Epoch 64, Average Loss: 0.4602171585303736\n",
      "Epoch 65, Average Loss: 0.45630599681337664\n",
      "Epoch 66, Average Loss: 0.4539696483976351\n",
      "Epoch 67, Average Loss: 0.4565088189105802\n",
      "Epoch 68, Average Loss: 0.45473390664236363\n",
      "Epoch 69, Average Loss: 0.4552319973319486\n",
      "Epoch 70, Average Loss: 0.45697050746735285\n",
      "Epoch 71, Average Loss: 0.45834971144524667\n",
      "Epoch 72, Average Loss: 0.45463837057747764\n",
      "Epoch 73, Average Loss: 0.4561106432329254\n",
      "Epoch 74, Average Loss: 0.45892033728904136\n",
      "Epoch 75, Average Loss: 0.453238739972075\n",
      "Epoch 76, Average Loss: 0.46275083959491586\n",
      "Epoch 77, Average Loss: 0.45507408346474254\n",
      "Epoch 78, Average Loss: 0.4520832533793763\n",
      "Epoch 79, Average Loss: 0.4503942464980552\n",
      "Epoch 80, Average Loss: 0.4491218519729403\n",
      "Epoch 81, Average Loss: 0.45206349882446\n",
      "Epoch 82, Average Loss: 0.4475378287904\n",
      "Epoch 83, Average Loss: 0.4476173271072054\n",
      "Epoch 84, Average Loss: 0.45726470528846686\n",
      "Epoch 85, Average Loss: 0.45347712338360724\n",
      "Epoch 86, Average Loss: 0.4517540414078495\n",
      "Epoch 87, Average Loss: 0.45211795260499327\n",
      "Epoch 88, Average Loss: 0.44841514751897177\n",
      "Epoch 89, Average Loss: 0.44103293631553475\n",
      "Epoch 90, Average Loss: 0.45676924442661765\n",
      "Epoch 91, Average Loss: 0.4702657866408129\n",
      "Epoch 92, Average Loss: 0.45309607371817046\n",
      "Epoch 93, Average Loss: 0.4510158090383073\n",
      "Epoch 94, Average Loss: 0.45508387162540725\n",
      "Epoch 95, Average Loss: 0.44458264466591496\n",
      "Epoch 96, Average Loss: 0.44250507531656846\n",
      "Epoch 97, Average Loss: 0.4505314324530884\n",
      "Epoch 98, Average Loss: 0.45254881253687007\n",
      "Epoch 99, Average Loss: 0.45442884430005165\n",
      "Epoch 100, Average Loss: 0.4430893189968139\n",
      "Epoch 101, Average Loss: 0.44798145879608764\n",
      "Epoch 102, Average Loss: 0.45014089860635387\n",
      "Epoch 103, Average Loss: 0.44514313757084295\n",
      "Epoch 104, Average Loss: 0.45006362869590966\n",
      "Epoch 105, Average Loss: 0.45184281759444744\n",
      "Epoch 106, Average Loss: 0.4504968168941352\n",
      "Epoch 107, Average Loss: 0.449854444934707\n",
      "Epoch 108, Average Loss: 0.446296020262689\n",
      "Epoch 109, Average Loss: 0.44826278995595387\n",
      "Epoch 110, Average Loss: 0.4553824734330843\n",
      "Epoch 111, Average Loss: 0.4437661835749778\n",
      "Epoch 112, Average Loss: 0.44719259703801095\n",
      "Epoch 113, Average Loss: 0.4443202650903351\n",
      "Epoch 114, Average Loss: 0.4436974028537544\n",
      "Epoch 115, Average Loss: 0.45370540552300764\n",
      "Epoch 116, Average Loss: 0.44380455762823573\n",
      "Epoch 117, Average Loss: 0.44639560160328257\n",
      "Epoch 118, Average Loss: 0.4427712705162365\n",
      "Epoch 119, Average Loss: 0.4465796096443202\n",
      "Epoch 120, Average Loss: 0.44408018715695957\n",
      "Epoch 121, Average Loss: 0.45110355609764036\n",
      "Epoch 122, Average Loss: 0.44296591313316747\n",
      "Epoch 123, Average Loss: 0.4461137019159231\n",
      "Epoch 124, Average Loss: 0.4389307425660229\n",
      "Epoch 125, Average Loss: 0.4459795710909346\n",
      "Epoch 126, Average Loss: 0.4464571977514954\n",
      "Epoch 127, Average Loss: 0.4432324460048147\n",
      "Epoch 128, Average Loss: 0.4731621901475437\n",
      "Epoch 129, Average Loss: 0.4524095289073706\n",
      "Epoch 130, Average Loss: 0.4487200612416898\n",
      "Epoch 131, Average Loss: 0.4426745807153659\n",
      "Epoch 132, Average Loss: 0.4477562553172228\n",
      "Epoch 133, Average Loss: 0.44809578879739015\n",
      "Epoch 134, Average Loss: 0.44605502006828907\n",
      "Epoch 135, Average Loss: 0.45173399931423275\n",
      "Epoch 136, Average Loss: 0.4427322719645765\n",
      "Epoch 137, Average Loss: 0.4487313911734499\n",
      "Epoch 138, Average Loss: 0.4435261947203375\n",
      "Epoch 139, Average Loss: 0.4492410738557994\n",
      "Epoch 140, Average Loss: 0.4390006902762367\n",
      "Epoch 141, Average Loss: 0.4499865872899545\n",
      "Epoch 142, Average Loss: 0.45467226919237463\n",
      "Epoch 143, Average Loss: 0.4362974257584739\n",
      "Epoch 144, Average Loss: 0.44505462196156875\n",
      "Epoch 145, Average Loss: 0.43696299241499414\n",
      "Epoch 146, Average Loss: 0.43466466265810244\n",
      "Epoch 147, Average Loss: 0.4550931138486754\n",
      "Epoch 148, Average Loss: 0.4392662994351938\n",
      "Epoch 149, Average Loss: 0.43435391431164716\n",
      "Epoch 150, Average Loss: 0.43997959477181553\n"
     ]
    }
   ],
   "source": [
    "import torch\n",
    "import torch.nn as nn\n",
    "import torch.nn.functional as F\n",
    "from torch_geometric.nn import GCNConv, SortAggregation\n",
    "from torch_geometric.data import Data\n",
    "import torch.optim as optim\n",
    "\n",
    "# Define the device\n",
    "device = torch.device(\"cuda\" if torch.cuda.is_available() else \"cpu\")\n",
    "\n",
    "class GCN_SortPool_CNN(nn.Module):\n",
    "    def __init__(self, in_channels, hidden_channels, out_channels, k):\n",
    "        super(GCN_SortPool_CNN, self).__init__()\n",
    "        self.conv1 = GCNConv(in_channels, hidden_channels)\n",
    "        #self.conv2 = GCNConv(hidden_channels, hidden_channels)\n",
    "        self.sort_pool = SortAggregation(k=k) #prioritizing nodes (dk what k is)\n",
    "        self.cnn1d = nn.Conv1d(in_channels=hidden_channels, out_channels=32, kernel_size=2)\n",
    "        \n",
    "        # Calculate the correct input size for the fully connected layer\n",
    "        cnn_output_size = 32 * (k - 1)  # Because kernel_size=2 reduces length by 1\n",
    "        self.fc = nn.Linear(cnn_output_size, out_channels)\n",
    "        \n",
    "    def forward(self, x, edge_index):\n",
    "        # GCN Layers\n",
    "        x = F.relu(self.conv1(x, edge_index))\n",
    "        #x = F.relu(self.conv2(x, edge_index))\n",
    "        \n",
    "        # SortPooling\n",
    "        x = self.sort_pool(x, torch.zeros(x.size(0), dtype=torch.long, device=x.device))  # Create a dummy batch tensor\n",
    "        \n",
    "        # Reshape for 1D CNN\n",
    "        x = x.view(x.size(0), -1, self.sort_pool.k)  # Reshape to (batch_size, hidden_channels, k)\n",
    "        \n",
    "        # 1D CNN\n",
    "        x = F.relu(self.cnn1d(x))\n",
    "        x = x.view(x.size(0), -1)  # Flatten\n",
    "        \n",
    "        # Fully Connected + Sigmoid\n",
    "        x = self.fc(x)\n",
    "        x = torch.sigmoid(x)  # Apply sigmoid activation\n",
    "        return x\n",
    "\n",
    "n = 12000  # Example number of graphs # change after skipping1500\n",
    "# Define your model\n",
    "model = GCN_SortPool_CNN(in_channels=768, hidden_channels=32, out_channels=1, k=14).to(device)  # Move model to device\n",
    "\n",
    "# Initialize optimizer and criterion\n",
    "optimizer = optim.Adam(model.parameters(), lr=0.001)\n",
    "criterion = nn.BCELoss()  # Binary Cross Entropy Loss for binary classification\n",
    "\n",
    "# Assuming you have lists of feature matrices and edge lists with varying node counts\n",
    "\n",
    "\n",
    "# Create a list of Data objects\n",
    "graphs = [Data(x=feature_matrices[i].to(device), edge_index=edge_list_all[i].to(device)) for i in range(n)]  # Move data to device\n",
    "\n",
    "# Training loop\n",
    "# pred_1 += pred_2\n",
    "num_epochs = 150\n",
    "for epoch in range(num_epochs):\n",
    "    model.train()\n",
    "    total_loss = 0\n",
    "    for i, graph in enumerate(graphs):\n",
    "        optimizer.zero_grad()\n",
    "        output = model(graph.x, graph.edge_index.view(2, -1))\n",
    "        target = torch.tensor(pred_1_shuffled[i], dtype=torch.float32, device=device).view(1, 1)  # Move target to device\n",
    "        loss = criterion(output, target)\n",
    "        loss.backward()\n",
    "        optimizer.step()\n",
    "        total_loss += loss.item()\n",
    "    \n",
    "    print(f\"Epoch {epoch+1}, Average Loss: {total_loss / len(graphs)}\")\n"
   ]
  },
  {
   "cell_type": "code",
   "execution_count": 16,
   "id": "5c86e585-88bb-42de-bc65-9164ecc9e860",
   "metadata": {},
   "outputs": [],
   "source": [
    "import torch\n",
    "torch.save(model.state_dict(), 'gcn_sortpool_cnn.pth')"
   ]
  },
  {
   "cell_type": "code",
   "execution_count": 15,
   "id": "68c0e340-f868-40e9-a75c-86d8e25b4eda",
   "metadata": {},
   "outputs": [
    {
     "name": "stdout",
     "output_type": "stream",
     "text": [
      "20\n"
     ]
    },
    {
     "data": {
      "text/plain": [
       "18"
      ]
     },
     "execution_count": 15,
     "metadata": {},
     "output_type": "execute_result"
    }
   ],
   "source": [
    "print(len(edge_list_all[0]))\n",
    "len(feature_matrices[0])"
   ]
  },
  {
   "cell_type": "code",
   "execution_count": 27,
   "id": "faddcef1-ba8f-41e7-8452-db7f576f487c",
   "metadata": {},
   "outputs": [
    {
     "data": {
      "text/plain": [
       "torch.Size([2, 27])"
      ]
     },
     "execution_count": 27,
     "metadata": {},
     "output_type": "execute_result"
    }
   ],
   "source": [
    "edge_list_all[1].view(2,-1).shape\n",
    "# feature_matrices[0].shape\n"
   ]
  },
  {
   "cell_type": "code",
   "execution_count": null,
   "id": "6164c35e-2606-4409-9ad3-cd00c0751541",
   "metadata": {},
   "outputs": [],
   "source": []
  }
 ],
 "metadata": {
  "kernelspec": {
   "display_name": "Python 3 (ipykernel)",
   "language": "python",
   "name": "python3"
  },
  "language_info": {
   "codemirror_mode": {
    "name": "ipython",
    "version": 3
   },
   "file_extension": ".py",
   "mimetype": "text/x-python",
   "name": "python",
   "nbconvert_exporter": "python",
   "pygments_lexer": "ipython3",
   "version": "3.12.2"
  }
 },
 "nbformat": 4,
 "nbformat_minor": 5
}
