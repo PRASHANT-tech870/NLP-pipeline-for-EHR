{
 "cells": [
  {
   "cell_type": "code",
   "execution_count": null,
   "metadata": {},
   "outputs": [],
   "source": [
    "import os\n",
    "import torch\n",
    "import torch.nn as nn\n",
    "from torch.quantization import quantize_dynamic\n",
    "\n",
    "# Assuming you have already defined and loaded your model\n",
    "# Example: model = YourModelClass()\n",
    "\n",
    "# Define the device (CPU or GPU)\n",
    "device = torch.device(\"cuda\" if torch.cuda.is_available() else \"cpu\")\n",
    "\n",
    "# Load the model state dict\n",
    "current_dir = os.path.dirname(os.path.abspath(__file__))\n",
    "model_path = os.path.join(current_dir, \"best_model.pth\")\n",
    "model.load_state_dict(torch.load(model_path, map_location=device))\n",
    "\n",
    "# Move the model to the appropriate device\n",
    "model.to(device)\n",
    "\n",
    "# Apply dynamic quantization to the model\n",
    "# Quantize the Linear layers to torch.qint8\n",
    "quantized_model = quantize_dynamic(\n",
    "    model, {nn.Linear}, dtype=torch.qint8\n",
    ")\n",
    "\n",
    "# Save the quantized model to a new .pth file\n",
    "quantized_model_path = os.path.join(current_dir, \"quantized_model.pth\")\n",
    "torch.save(quantized_model.state_dict(), quantized_model_path)\n",
    "\n",
    "print(f\"Quantized model saved to {quantized_model_path}\")"
   ]
  }
 ],
 "metadata": {
  "kernelspec": {
   "display_name": "base",
   "language": "python",
   "name": "python3"
  },
  "language_info": {
   "name": "python",
   "version": "3.9.13"
  }
 },
 "nbformat": 4,
 "nbformat_minor": 2
}
